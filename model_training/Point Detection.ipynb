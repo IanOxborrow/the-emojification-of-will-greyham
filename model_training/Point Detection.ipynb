{
 "cells": [
  {
   "cell_type": "code",
   "execution_count": 1,
   "metadata": {},
   "outputs": [],
   "source": [
    "# the following code is based on code provided in the article\n",
    "# https://towardsdatascience.com/facial-keypoints-detection-deep-learning-737547f73515\n",
    "# I have converted it into pytorch however because I prefer pytorch"
   ]
  },
  {
   "cell_type": "code",
   "execution_count": 1,
   "metadata": {},
   "outputs": [],
   "source": [
    "import random\n",
    "import math\n",
    "\n",
    "import numpy as np\n",
    "import pandas as pd\n",
    "import cv2\n",
    "\n",
    "import matplotlib.pyplot as plt\n",
    "\n",
    "import argparse\n",
    "import torch\n",
    "import torch.nn as nn\n",
    "import torch.nn.functional as F\n",
    "import torch.optim as optim\n",
    "\n",
    "from torchvision import datasets, transforms, models"
   ]
  },
  {
   "cell_type": "code",
   "execution_count": 2,
   "metadata": {},
   "outputs": [
    {
     "name": "stdout",
     "output_type": "stream",
     "text": [
      "cuda avaiable\n"
     ]
    }
   ],
   "source": [
    "seed = 0\n",
    "torch.manual_seed(seed)\n",
    "if torch.cuda.is_available():\n",
    "    print(\"cuda avaiable\")\n",
    "    torch.cuda.manual_seed(seed)\n",
    "    torch.device('cuda')"
   ]
  },
  {
   "cell_type": "code",
   "execution_count": 3,
   "metadata": {},
   "outputs": [],
   "source": [
    "test_csv = pd.read_csv('data/test.csv')\n",
    "train_csv = pd.read_csv('data/training.csv')\n",
    "\n",
    "train_csv['Image'] = train_csv['Image'].apply(lambda im: np.fromstring(im, sep=' '))\n",
    "test_csv['Image'] = test_csv['Image'].apply(lambda im: np.fromstring(im, sep=' '))\n",
    "train_csv = train_csv.dropna()\n",
    "test_csv = test_csv.dropna()"
   ]
  },
  {
   "cell_type": "markdown",
   "metadata": {},
   "source": [
    "### Load the train and test data into a pytorch-friendly format"
   ]
  },
  {
   "cell_type": "code",
   "execution_count": 4,
   "metadata": {},
   "outputs": [
    {
     "name": "stdout",
     "output_type": "stream",
     "text": [
      "torch.Size([2140, 1, 96, 96])\n",
      "torch.Size([2140, 30])\n",
      "torch.Size([1783, 1, 96, 96])\n"
     ]
    }
   ],
   "source": [
    "#display(train_csv)\n",
    "\n",
    "X_train = np.vstack(train_csv['Image'].values) / 255\n",
    "X_train = torch.tensor(X_train).float()\n",
    "X_train = X_train.reshape(-1, 1, 96, 96)\n",
    "\n",
    "y_train = train_csv[train_csv.columns[:-1]].values\n",
    "y_train = (y_train - 48) / 48\n",
    "y_train = torch.tensor(y_train).float()\n",
    "\n",
    "X_test = np.vstack(test_csv['Image'].values) / 255\n",
    "X_test = torch.tensor(X_test).float()\n",
    "X_test = X_test.reshape(-1, 1, 96, 96)\n",
    "\n",
    "print(X_train.shape)\n",
    "print(y_train.shape)\n",
    "print(X_test.shape)\n"
   ]
  },
  {
   "cell_type": "markdown",
   "metadata": {},
   "source": [
    "### Perform random transformation on the images"
   ]
  },
  {
   "cell_type": "code",
   "execution_count": 5,
   "metadata": {},
   "outputs": [
    {
     "name": "stdout",
     "output_type": "stream",
     "text": [
      "torch.Size([30])\n",
      "torch.Size([1, 96, 96])\n",
      "torch.Size([2140, 1, 96, 96])\n",
      "torch.Size([2140, 30])\n"
     ]
    }
   ],
   "source": [
    "image_number = 1002\n",
    "\n",
    "all_rotated_features = []\n",
    "all_rotated_images = []\n",
    "\n",
    "for original_image, original_features in list(zip(X_train, y_train)):\n",
    "    \n",
    "    #create the random rotation matrix for the attributes\n",
    "    theta = random.random() * 3 - 1.5 #random rotation between -1.5 and 1.5 radians\n",
    "    c, s = np.cos(-theta), np.sin(-theta)\n",
    "    feature_rotator = np.array(((c, -s), (s, c)))\n",
    "\n",
    "    #get the features from the original image and rotate them\n",
    "    features = original_features.reshape(15, 2)\n",
    "    rotated_features = np.dot(feature_rotator, features.T).T\n",
    "    rotated_features = rotated_features * 48 + 48\n",
    "\n",
    "    #get the original image and rotate it\n",
    "    image = original_image.reshape(96, 96)\n",
    "    image = image.numpy()\n",
    "    image_rotator = cv2.getRotationMatrix2D((48, 48), np.degrees(theta), 1.0)\n",
    "    rotated_image = cv2.warpAffine(image, image_rotator, image.shape[1::-1], flags=cv2.INTER_LINEAR)\n",
    "\n",
    "    #transform the features into a format consistant with the original data\n",
    "    rotated_features = rotated_features.flatten()\n",
    "    rotated_features = (rotated_features - 48) / 48\n",
    "    rotated_features = torch.tensor(rotated_features).float()\n",
    "\n",
    "    #transform the images into a format consistant with the original data\n",
    "    rotated_image = np.vstack(rotated_image)\n",
    "    rotated_image = torch.tensor(rotated_image).float()\n",
    "    rotated_image = rotated_image.reshape(1, 96, 96)\n",
    "\n",
    "    all_rotated_features.append(rotated_features)\n",
    "    all_rotated_images.append(rotated_image)\n",
    "    \n",
    "print(rotated_features.shape)\n",
    "print(rotated_image.shape)\n",
    "\n",
    "#append the modifed data to the original data\n",
    "rotated_images = torch.stack(all_rotated_images)\n",
    "rotated_features = torch.stack(all_rotated_features)\n",
    "\n",
    "print(X_train.shape)\n",
    "print(y_train.shape)\n",
    "\n"
   ]
  },
  {
   "cell_type": "markdown",
   "metadata": {},
   "source": [
    "### Perform random scaling"
   ]
  },
  {
   "cell_type": "code",
   "execution_count": 6,
   "metadata": {},
   "outputs": [
    {
     "name": "stdout",
     "output_type": "stream",
     "text": [
      "torch.Size([8560, 1, 96, 96])\n",
      "torch.Size([8560, 30])\n"
     ]
    }
   ],
   "source": [
    "all_translated_images = []\n",
    "all_translated_features = []\n",
    "\n",
    "for original_image, original_features in list(zip(X_train, y_train)):\n",
    "\n",
    "    scale = random.uniform(0.6, 1.0)\n",
    "    dsize = (math.ceil(96 * scale), math.ceil(96 * scale))\n",
    "\n",
    "    #scale features\n",
    "    features = original_features.reshape(15, 2).numpy()\n",
    "    features = features * 48 + 48\n",
    "    features = features * scale\n",
    "\n",
    "    features_count = features.shape[0]\n",
    "\n",
    "    #scale image\n",
    "    image = original_image.reshape(96, 96).numpy()\n",
    "    scaled_image = cv2.resize(image, dsize)\n",
    "\n",
    "    scale_height, scale_width = scaled_image.shape\n",
    "\n",
    "    top_left_image = np.zeros((96, 96))\n",
    "    top_right_image = np.zeros((96, 96))\n",
    "    bottom_left_image = np.zeros((96, 96))\n",
    "    bottom_right_image = np.zeros((96, 96))\n",
    "\n",
    "    top_left_features = np.repeat([[0,                    0]],               features_count, axis=0) + features\n",
    "    top_right_features = np.repeat([[96 - scale_width,    0]],               features_count, axis=0) + features\n",
    "    bottom_left_features = np.repeat([[0,                 96-scale_height]], features_count, axis=0) + features\n",
    "    bottom_right_features = np.repeat([[96 - scale_width, 96-scale_height]], features_count, axis=0) + features\n",
    "\n",
    "    top_left_image[0:scale_height, 0:scale_width] = scaled_image\n",
    "    top_right_image[0:scale_height, (96 - scale_width):96] = scaled_image\n",
    "    bottom_left_image[(96-scale_height):96, 0:scale_width] = scaled_image\n",
    "    bottom_right_image[(96-scale_height):96, (96 - scale_width):96] = scaled_image\n",
    "    \n",
    "    top_left_features = (torch.tensor(top_left_features.flatten()) - 48 ) / 48\n",
    "    top_right_features = (torch.tensor(top_right_features.flatten()) - 48 ) / 48\n",
    "    bottom_left_features = (torch.tensor(bottom_left_features.flatten()) - 48 ) / 48\n",
    "    bottom_right_features = (torch.tensor(bottom_right_features.flatten()) - 48 ) / 48\n",
    "\n",
    "    top_left_image = torch.tensor(top_left_image).reshape(1, 96, 96)\n",
    "    top_right_image = torch.tensor(top_right_image).reshape(1, 96, 96)\n",
    "    bottom_left_image = torch.tensor(bottom_left_image).reshape(1, 96, 96)\n",
    "    bottom_right_image = torch.tensor(bottom_right_image).reshape(1, 96, 96)\n",
    "\n",
    "    all_translated_features.append(top_left_features.float())\n",
    "    all_translated_features.append(top_right_features.float())\n",
    "    all_translated_features.append(bottom_left_features.float())\n",
    "    all_translated_features.append(bottom_right_features.float())\n",
    "    \n",
    "    all_translated_images.append(top_left_image.float())\n",
    "    all_translated_images.append(top_right_image.float())\n",
    "    all_translated_images.append(bottom_left_image.float())\n",
    "    all_translated_images.append(bottom_right_image.float())\n",
    "                \n",
    "\n",
    "translated_images = torch.stack(all_translated_images)\n",
    "translated_features = torch.stack(all_translated_features)\n",
    "\n",
    "print(translated_images.shape)\n",
    "print(translated_features.shape)\n",
    "\n",
    "#plt.imshow(bottom_left_image)\n",
    "#plt.scatter(bottom_left_features[:, 0], bottom_left_features[:, 1], c='0')"
   ]
  },
  {
   "cell_type": "markdown",
   "metadata": {},
   "source": [
    "### Perform random brightness adjustments"
   ]
  },
  {
   "cell_type": "code",
   "execution_count": null,
   "metadata": {},
   "outputs": [],
   "source": []
  },
  {
   "cell_type": "markdown",
   "metadata": {},
   "source": [
    "### Add random noise"
   ]
  },
  {
   "cell_type": "code",
   "execution_count": null,
   "metadata": {},
   "outputs": [],
   "source": []
  },
  {
   "cell_type": "code",
   "execution_count": 7,
   "metadata": {},
   "outputs": [
    {
     "name": "stdout",
     "output_type": "stream",
     "text": [
      "Using cuda\n",
      "torch.Size([12840, 1, 96, 96])\n",
      "torch.Size([12840, 30])\n"
     ]
    }
   ],
   "source": [
    "\n",
    "X_train = torch.cat((X_train, rotated_images, translated_images))\n",
    "y_train = torch.cat((y_train, rotated_features, translated_features))\n",
    "\n",
    "if (torch.cuda.is_available()):\n",
    "    print(\"Using cuda\")\n",
    "    X_train = X_train.cuda()\n",
    "    y_train = y_train.cuda()\n",
    "    #X_test = X_test.cuda()\n",
    "\n",
    "print(X_train.shape)\n",
    "print(y_train.shape)\n",
    "\n",
    "trainset = torch.utils.data.DataLoader(list(zip(X_train, y_train)), batch_size=64, shuffle=True)\n"
   ]
  },
  {
   "cell_type": "code",
   "execution_count": 8,
   "metadata": {},
   "outputs": [],
   "source": [
    "#resnet = torch.hub.load('pytorch/vision:v0.9.0', 'resnet18', pretrained=True)\n",
    "\n",
    "resnet = models.resnet50(pretrained=True)\n",
    "#resnet = resnet.cuda() if torch.cuda.is_available() else resnet\n",
    "#resnet"
   ]
  },
  {
   "cell_type": "code",
   "execution_count": 9,
   "metadata": {},
   "outputs": [],
   "source": [
    "#convert the split set into a form that can be used by the neural network more easily\n",
    "\n",
    "\n",
    "class FacialFeatureDetectionNetwork(nn.Module):\n",
    "    def __init__(self, resnet):\n",
    "        super().__init__()\n",
    "    \n",
    "    \n",
    "        self.conv1 = nn.Conv2d(1, 3, kernel_size=5)\n",
    "        self.resnet = resnet\n",
    "        self.resnet.fc = nn.Linear(2048, 2048)\n",
    "        #self.conv2 = nn.Conv2d(32, 64, kernel_size=3)\n",
    "        #self.conv3 = nn.Conv2d(64, 64, kernel_size=3)\n",
    "        #self.conv4 = nn.Conv2d(64, 64, kernel_size=3)\n",
    "        \n",
    "        #self.pool1 = nn.AvgPool2d(4)\n",
    "        \n",
    "        #self.flat1 = nn.Flatten()\n",
    "        \n",
    "        self.drop1 = nn.Dropout(0.1)\n",
    "        #self.drop2 = nn.Dropout(0.2)\n",
    "        #self.drop3 = nn.Dropout(0.3)\n",
    "        '''\n",
    "        self.fc1 = nn.Linear(1024, 256)\n",
    "        self.fc2 = nn.Linear(256, 256)\n",
    "        self.fc3 = nn.Linear(256, 256)\n",
    "        self.fc4 = nn.Linear(256, 64)\n",
    "        self.fc5 = nn.Linear(64, 30)\n",
    "        '''\n",
    "        self.fc1 = nn.Linear(2048, 30)\n",
    "\n",
    "    \n",
    "    def forward(self, x):\n",
    "        \n",
    "        x = F.leaky_relu(self.conv1(x))\n",
    "        #x = self.pool1(x)\n",
    "        \n",
    "        x = self.resnet(x)\n",
    "\n",
    "        #x = F.relu(self.conv2(x))\n",
    "        #x = self.pool1(x)\n",
    "        #x = self.drop1(x)\n",
    "        \n",
    "        #x = F.relu(self.conv3(x))\n",
    "        #x = self.pool1(x)\n",
    "        #x = self.drop2(x)\n",
    "        \n",
    "        #x = F.relu(self.conv4(x))\n",
    "        #x = self.pool1(x)\n",
    "        #x = self.drop3(x)\n",
    "        \n",
    "        #x = self.flat1(x)\n",
    "        #x = self.pool1(x)\n",
    "        \n",
    "        x = self.drop1(x)\n",
    "        \n",
    "        x = self.fc1(x)\n",
    "        #x = F.relu(self.fc2(x))\n",
    "        #x = F.relu(self.fc3(x))\n",
    "        #x = F.relu(self.fc4(x))\n",
    "        #x = self.fc5(x)\n",
    "        return x\n",
    "    \n",
    "\n",
    "net = FacialFeatureDetectionNetwork(resnet)"
   ]
  },
  {
   "cell_type": "code",
   "execution_count": 10,
   "metadata": {},
   "outputs": [
    {
     "name": "stdout",
     "output_type": "stream",
     "text": [
      "Using cuda\n",
      "finished epoch 0 tensor(0.0248, device='cuda:0', grad_fn=<MseLossBackward>)\n",
      "finished epoch 1 tensor(0.0038, device='cuda:0', grad_fn=<MseLossBackward>)\n",
      "finished epoch 2 tensor(0.0019, device='cuda:0', grad_fn=<MseLossBackward>)\n",
      "finished epoch 3 tensor(0.0017, device='cuda:0', grad_fn=<MseLossBackward>)\n",
      "finished epoch 4 tensor(0.0027, device='cuda:0', grad_fn=<MseLossBackward>)\n",
      "finished epoch 5 tensor(0.0016, device='cuda:0', grad_fn=<MseLossBackward>)\n",
      "finished epoch 6 tensor(0.0013, device='cuda:0', grad_fn=<MseLossBackward>)\n",
      "finished epoch 7 tensor(0.0015, device='cuda:0', grad_fn=<MseLossBackward>)\n",
      "finished epoch 8 tensor(0.0009, device='cuda:0', grad_fn=<MseLossBackward>)\n",
      "finished epoch 9 tensor(0.0011, device='cuda:0', grad_fn=<MseLossBackward>)\n",
      "finished epoch 10 tensor(0.0010, device='cuda:0', grad_fn=<MseLossBackward>)\n",
      "finished epoch 11 tensor(0.0013, device='cuda:0', grad_fn=<MseLossBackward>)\n",
      "finished epoch 12 tensor(0.0047, device='cuda:0', grad_fn=<MseLossBackward>)\n",
      "finished epoch 13 tensor(0.0012, device='cuda:0', grad_fn=<MseLossBackward>)\n",
      "finished epoch 14 tensor(0.0009, device='cuda:0', grad_fn=<MseLossBackward>)\n",
      "finished epoch 15 tensor(0.0009, device='cuda:0', grad_fn=<MseLossBackward>)\n",
      "finished epoch 16 tensor(0.0008, device='cuda:0', grad_fn=<MseLossBackward>)\n",
      "finished epoch 17 tensor(0.0007, device='cuda:0', grad_fn=<MseLossBackward>)\n",
      "finished epoch 18 tensor(0.0012, device='cuda:0', grad_fn=<MseLossBackward>)\n",
      "finished epoch 19 tensor(0.0005, device='cuda:0', grad_fn=<MseLossBackward>)\n",
      "finished epoch 20 tensor(0.0005, device='cuda:0', grad_fn=<MseLossBackward>)\n",
      "finished epoch 21 tensor(0.0009, device='cuda:0', grad_fn=<MseLossBackward>)\n",
      "finished epoch 22 tensor(0.0006, device='cuda:0', grad_fn=<MseLossBackward>)\n",
      "finished epoch 23 tensor(0.0005, device='cuda:0', grad_fn=<MseLossBackward>)\n",
      "finished epoch 24 tensor(0.0055, device='cuda:0', grad_fn=<MseLossBackward>)\n",
      "finished epoch 25 tensor(0.0013, device='cuda:0', grad_fn=<MseLossBackward>)\n",
      "finished epoch 26 tensor(0.0007, device='cuda:0', grad_fn=<MseLossBackward>)\n",
      "finished epoch 27 tensor(0.0015, device='cuda:0', grad_fn=<MseLossBackward>)\n",
      "finished epoch 28 tensor(0.0016, device='cuda:0', grad_fn=<MseLossBackward>)\n",
      "finished epoch 29 tensor(0.0010, device='cuda:0', grad_fn=<MseLossBackward>)\n",
      "finished epoch 30 tensor(0.0008, device='cuda:0', grad_fn=<MseLossBackward>)\n",
      "finished epoch 31 tensor(0.0006, device='cuda:0', grad_fn=<MseLossBackward>)\n",
      "finished epoch 32 tensor(0.0007, device='cuda:0', grad_fn=<MseLossBackward>)\n",
      "finished epoch 33 tensor(0.0006, device='cuda:0', grad_fn=<MseLossBackward>)\n",
      "finished epoch 34 tensor(0.0007, device='cuda:0', grad_fn=<MseLossBackward>)\n",
      "finished epoch 35 tensor(0.0006, device='cuda:0', grad_fn=<MseLossBackward>)\n",
      "finished epoch 36 tensor(0.0005, device='cuda:0', grad_fn=<MseLossBackward>)\n",
      "finished epoch 37 tensor(0.0007, device='cuda:0', grad_fn=<MseLossBackward>)\n",
      "finished epoch 38 tensor(0.0005, device='cuda:0', grad_fn=<MseLossBackward>)\n",
      "finished epoch 39 tensor(0.0006, device='cuda:0', grad_fn=<MseLossBackward>)\n",
      "finished epoch 40 tensor(0.0006, device='cuda:0', grad_fn=<MseLossBackward>)\n",
      "finished epoch 41 tensor(0.0004, device='cuda:0', grad_fn=<MseLossBackward>)\n",
      "finished epoch 42 tensor(0.0004, device='cuda:0', grad_fn=<MseLossBackward>)\n",
      "finished epoch 43 tensor(0.0008, device='cuda:0', grad_fn=<MseLossBackward>)\n",
      "finished epoch 44 tensor(0.0004, device='cuda:0', grad_fn=<MseLossBackward>)\n",
      "finished epoch 45 tensor(0.0005, device='cuda:0', grad_fn=<MseLossBackward>)\n",
      "finished epoch 46 tensor(0.0008, device='cuda:0', grad_fn=<MseLossBackward>)\n",
      "finished epoch 47 tensor(0.0006, device='cuda:0', grad_fn=<MseLossBackward>)\n",
      "finished epoch 48 tensor(0.0004, device='cuda:0', grad_fn=<MseLossBackward>)\n",
      "finished epoch 49 tensor(0.0007, device='cuda:0', grad_fn=<MseLossBackward>)\n",
      "finished epoch 50 tensor(0.0005, device='cuda:0', grad_fn=<MseLossBackward>)\n",
      "finished epoch 51 tensor(0.0006, device='cuda:0', grad_fn=<MseLossBackward>)\n",
      "finished epoch 52 tensor(0.0004, device='cuda:0', grad_fn=<MseLossBackward>)\n",
      "finished epoch 53 tensor(0.0003, device='cuda:0', grad_fn=<MseLossBackward>)\n",
      "finished epoch 54 tensor(0.0004, device='cuda:0', grad_fn=<MseLossBackward>)\n",
      "finished epoch 55 tensor(0.0004, device='cuda:0', grad_fn=<MseLossBackward>)\n",
      "finished epoch 56 tensor(0.0004, device='cuda:0', grad_fn=<MseLossBackward>)\n",
      "finished epoch 57 tensor(0.0004, device='cuda:0', grad_fn=<MseLossBackward>)\n",
      "finished epoch 58 tensor(0.0003, device='cuda:0', grad_fn=<MseLossBackward>)\n",
      "finished epoch 59 tensor(0.0003, device='cuda:0', grad_fn=<MseLossBackward>)\n",
      "finished epoch 60 tensor(0.0004, device='cuda:0', grad_fn=<MseLossBackward>)\n",
      "finished epoch 61 tensor(0.0003, device='cuda:0', grad_fn=<MseLossBackward>)\n",
      "finished epoch 62 tensor(0.0006, device='cuda:0', grad_fn=<MseLossBackward>)\n",
      "finished epoch 63 tensor(0.0007, device='cuda:0', grad_fn=<MseLossBackward>)\n",
      "finished epoch 64 tensor(0.0006, device='cuda:0', grad_fn=<MseLossBackward>)\n",
      "finished epoch 65 tensor(0.0004, device='cuda:0', grad_fn=<MseLossBackward>)\n",
      "finished epoch 66 tensor(0.0003, device='cuda:0', grad_fn=<MseLossBackward>)\n",
      "finished epoch 67 tensor(0.0004, device='cuda:0', grad_fn=<MseLossBackward>)\n",
      "finished epoch 68 tensor(0.0004, device='cuda:0', grad_fn=<MseLossBackward>)\n",
      "finished epoch 69 tensor(0.0003, device='cuda:0', grad_fn=<MseLossBackward>)\n",
      "finished epoch 70 tensor(0.0003, device='cuda:0', grad_fn=<MseLossBackward>)\n",
      "finished epoch 71 tensor(0.0003, device='cuda:0', grad_fn=<MseLossBackward>)\n",
      "finished epoch 72 tensor(0.0003, device='cuda:0', grad_fn=<MseLossBackward>)\n",
      "finished epoch 73 tensor(0.0005, device='cuda:0', grad_fn=<MseLossBackward>)\n",
      "finished epoch 74 tensor(0.0005, device='cuda:0', grad_fn=<MseLossBackward>)\n",
      "finished epoch 75 tensor(0.0003, device='cuda:0', grad_fn=<MseLossBackward>)\n",
      "finished epoch 76 tensor(0.0003, device='cuda:0', grad_fn=<MseLossBackward>)\n",
      "finished epoch 77 tensor(0.0003, device='cuda:0', grad_fn=<MseLossBackward>)\n",
      "finished epoch 78 tensor(0.0003, device='cuda:0', grad_fn=<MseLossBackward>)\n",
      "finished epoch 79 tensor(0.0003, device='cuda:0', grad_fn=<MseLossBackward>)\n",
      "finished epoch 80 tensor(0.0002, device='cuda:0', grad_fn=<MseLossBackward>)\n",
      "finished epoch 81 tensor(0.0002, device='cuda:0', grad_fn=<MseLossBackward>)\n",
      "finished epoch 82 tensor(0.0003, device='cuda:0', grad_fn=<MseLossBackward>)\n",
      "finished epoch 83 tensor(0.0002, device='cuda:0', grad_fn=<MseLossBackward>)\n",
      "finished epoch 84 tensor(0.0004, device='cuda:0', grad_fn=<MseLossBackward>)\n",
      "finished epoch 85 tensor(0.0002, device='cuda:0', grad_fn=<MseLossBackward>)\n",
      "finished epoch 86 tensor(0.0002, device='cuda:0', grad_fn=<MseLossBackward>)\n",
      "finished epoch 87 tensor(0.0003, device='cuda:0', grad_fn=<MseLossBackward>)\n",
      "finished epoch 88 tensor(0.0003, device='cuda:0', grad_fn=<MseLossBackward>)\n",
      "finished epoch 89 tensor(0.0010, device='cuda:0', grad_fn=<MseLossBackward>)\n",
      "finished epoch 90 tensor(0.0003, device='cuda:0', grad_fn=<MseLossBackward>)\n",
      "finished epoch 91 tensor(0.0003, device='cuda:0', grad_fn=<MseLossBackward>)\n",
      "finished epoch 92 tensor(0.0002, device='cuda:0', grad_fn=<MseLossBackward>)\n",
      "finished epoch 93 tensor(0.0002, device='cuda:0', grad_fn=<MseLossBackward>)\n",
      "finished epoch 94 tensor(0.0003, device='cuda:0', grad_fn=<MseLossBackward>)\n",
      "finished epoch 95 tensor(0.0002, device='cuda:0', grad_fn=<MseLossBackward>)\n",
      "finished epoch 96 tensor(0.0002, device='cuda:0', grad_fn=<MseLossBackward>)\n",
      "finished epoch 97 tensor(0.0002, device='cuda:0', grad_fn=<MseLossBackward>)\n",
      "finished epoch 98 tensor(0.0002, device='cuda:0', grad_fn=<MseLossBackward>)\n",
      "finished epoch 99 tensor(0.0003, device='cuda:0', grad_fn=<MseLossBackward>)\n"
     ]
    }
   ],
   "source": [
    "net = FacialFeatureDetectionNetwork(resnet)\n",
    "if torch.cuda.is_available():\n",
    "    print(\"Using cuda\")\n",
    "    net = net.cuda()\n",
    "\n",
    "loss_function = nn.CrossEntropyLoss()\n",
    "optimizer = optim.Adam(net.parameters(), lr=0.0005)\n",
    "\n",
    "for epoch in range(0, 100):\n",
    "    for data in trainset: \n",
    "        X, y = data \n",
    "        net.zero_grad()\n",
    "\n",
    "        #print(X.shape, y.shape)\n",
    "        \n",
    "        output = net(X)\n",
    "        #print(output.shape)\n",
    "        #print(output.reshape(-1, 1).shape)\n",
    "\n",
    "        loss = F.mse_loss(output, y)\n",
    "        loss.backward()\n",
    "\n",
    "        #print(loss)\n",
    "\n",
    "        optimizer.step() \n",
    "    print(\"finished epoch\", epoch, loss)\n"
   ]
  },
  {
   "cell_type": "code",
   "execution_count": null,
   "metadata": {},
   "outputs": [],
   "source": []
  },
  {
   "cell_type": "code",
   "execution_count": 11,
   "metadata": {},
   "outputs": [],
   "source": [
    "net = net.cpu()\n",
    "y_test = net(X_train.cpu()[:20])\n"
   ]
  },
  {
   "cell_type": "code",
   "execution_count": 16,
   "metadata": {},
   "outputs": [
    {
     "data": {
      "text/plain": [
       "<matplotlib.image.AxesImage at 0x7f3f78321df0>"
      ]
     },
     "execution_count": 16,
     "metadata": {},
     "output_type": "execute_result"
    },
    {
     "data": {
      "image/png": "[encoded data removed]",
      "text/plain": [
       "<Figure size 432x288 with 1 Axes>"
      ]
     },
     "metadata": {
      "needs_background": "light"
     },
     "output_type": "display_data"
    }
   ],
   "source": [
    "\n",
    "image_number = 9\n",
    "\n",
    "\n",
    "image = X_test[image_number].reshape(96, 96)\n",
    "image = image.numpy()\n",
    "image = image * 255\n",
    "\n",
    "\n",
    "features = y_test[image_number].reshape(15, 2)\n",
    "features = features.detach().numpy()\n",
    "features = features * 48 + 48\n",
    "\n",
    "\n",
    "#print(image.shape)\n",
    "#print(image)\n",
    "#print(features)\n",
    "plt.scatter(features[:, 0], features[:, 1], c='r', s=20)\n",
    "plt.imshow(image)\n"
   ]
  },
  {
   "cell_type": "code",
   "execution_count": null,
   "metadata": {},
   "outputs": [],
   "source": []
  },
  {
   "cell_type": "code",
   "execution_count": null,
   "metadata": {},
   "outputs": [],
   "source": []
  }
 ],
 "metadata": {
  "kernelspec": {
   "display_name": "Python 3",
   "language": "python",
   "name": "python3"
  },
  "language_info": {
   "codemirror_mode": {
    "name": "ipython",
    "version": 3
   },
   "file_extension": ".py",
   "mimetype": "text/x-python",
   "name": "python",
   "nbconvert_exporter": "python",
   "pygments_lexer": "ipython3",
   "version": "3.8.10"
  }
 },
 "nbformat": 4,
 "nbformat_minor": 5
}
