{
 "cells": [
  {
   "cell_type": "code",
   "execution_count": 1,
   "id": "6478f4a9-5137-4b7c-b2cd-23e730d7787d",
   "metadata": {},
   "outputs": [],
   "source": [
    "# the following code is based on code provided in the article\n",
    "# https://towardsdatascience.com/facial-keypoints-detection-deep-learning-737547f73515\n",
    "# I have converted it into pytorch however because I prefer pytorch"
   ]
  },
  {
   "cell_type": "code",
   "execution_count": 296,
   "id": "3a9d313a-9219-4653-819f-3ddc42d480e7",
   "metadata": {},
   "outputs": [],
   "source": [
    "import random\n",
    "\n",
    "import numpy as np\n",
    "import pandas as pd\n",
    "import cv2\n",
    "\n",
    "import matplotlib.pyplot as plt\n",
    "\n",
    "import argparse\n",
    "import torch\n",
    "import torch.nn as nn\n",
    "import torch.nn.functional as F\n",
    "import torch.optim as optim\n",
    "from torchvision import datasets, transforms"
   ]
  },
  {
   "cell_type": "code",
   "execution_count": 10,
   "id": "c8ca0619-63d8-4543-86c7-ce4a522c7773",
   "metadata": {},
   "outputs": [],
   "source": [
    "seed = 0\n",
    "torch.manual_seed(seed)\n",
    "if torch.cuda.is_available():\n",
    "    torch.cuda.manual_seed(seed)"
   ]
  },
  {
   "cell_type": "code",
   "execution_count": 30,
   "id": "6db49155-0207-4184-8e4a-b95882ae120e",
   "metadata": {},
   "outputs": [],
   "source": [
    "test_csv = pd.read_csv('data/test.csv')\n",
    "train_csv = pd.read_csv('data/training.csv')\n",
    "\n",
    "train_csv['Image'] = train_csv['Image'].apply(lambda im: np.fromstring(im, sep=' '))\n",
    "test_csv['Image'] = test_csv['Image'].apply(lambda im: np.fromstring(im, sep=' '))\n",
    "train_csv = train_csv.dropna()\n",
    "test_csv = test_csv.dropna()"
   ]
  },
  {
   "cell_type": "markdown",
   "id": "f48af6c3-e543-48d8-9aac-95ee5037ee29",
   "metadata": {},
   "source": [
    "### Load the train and test data into a pytorch-friendly format"
   ]
  },
  {
   "cell_type": "code",
   "execution_count": 355,
   "id": "d91ec228-0254-468e-9e90-ff0e5bd3924d",
   "metadata": {},
   "outputs": [
    {
     "name": "stdout",
     "output_type": "stream",
     "text": [
      "torch.Size([2140, 1, 96, 96])\n",
      "torch.Size([2140, 30])\n",
      "torch.Size([1783, 1, 96, 96])\n"
     ]
    }
   ],
   "source": [
    "#display(train_csv)\n",
    "\n",
    "X_train = np.vstack(train_csv['Image'].values) / 255\n",
    "X_train = torch.tensor(X_train).float()\n",
    "X_train = X_train.reshape(-1, 1, 96, 96)\n",
    "\n",
    "y_train = train_csv[train_csv.columns[:-1]].values\n",
    "y_train = (y_train - 48) / 48\n",
    "y_train = torch.tensor(y_train).float()\n",
    "\n",
    "X_test = np.vstack(test_csv['Image'].values) / 255\n",
    "X_test = torch.tensor(X_test).float()\n",
    "X_test = X_test.reshape(-1, 1, 96, 96)\n",
    "\n",
    "print(X_train.shape)\n",
    "print(y_train.shape)\n",
    "print(X_test.shape)\n"
   ]
  },
  {
   "cell_type": "markdown",
   "id": "40862265-9ff1-43fa-8afb-03148356a488",
   "metadata": {},
   "source": [
    "### Perform random transformation on the images"
   ]
  },
  {
   "cell_type": "code",
   "execution_count": 356,
   "id": "90bc4c72-12d6-46f3-b81c-c897a10cbc35",
   "metadata": {},
   "outputs": [
    {
     "name": "stdout",
     "output_type": "stream",
     "text": [
      "torch.Size([30])\n",
      "torch.Size([1, 96, 96])\n",
      "torch.Size([4280, 1, 96, 96])\n",
      "torch.Size([4280, 30])\n"
     ]
    }
   ],
   "source": [
    "image_number = 1002\n",
    "\n",
    "all_rotated_features = []\n",
    "all_rotated_images = []\n",
    "\n",
    "for original_image, original_features in list(zip(X_train, y_train)):\n",
    "    \n",
    "    #create the random rotation matrix for the attributes\n",
    "    theta = random.random() * 3 - 1.5 #random rotation between -1.5 and 1.5 radians\n",
    "    c, s = np.cos(-theta), np.sin(-theta)\n",
    "    feature_rotator = np.array(((c, -s), (s, c)))\n",
    "\n",
    "    #get the features from the original image and rotate them\n",
    "    features = original_features.reshape(15, 2)\n",
    "    rotated_features = np.dot(feature_rotator, features.T).T\n",
    "    rotated_features = rotated_features * 48 + 48\n",
    "\n",
    "    #get the original image and rotate it\n",
    "    image = original_image.reshape(96, 96)\n",
    "    image = image.numpy() * 255\n",
    "    image_rotator = cv2.getRotationMatrix2D((48, 48), np.degrees(theta), 1.0)\n",
    "    rotated_image = cv2.warpAffine(image, image_rotator, image.shape[1::-1], flags=cv2.INTER_LINEAR)\n",
    "\n",
    "    #transform the features into a format consistant with the original data\n",
    "    rotated_features = rotated_features.flatten()\n",
    "    rotated_features = (rotated_features - 48) / 48\n",
    "    rotated_features = torch.tensor(rotated_features).float()\n",
    "\n",
    "    #transform the images into a format consistant with the original data\n",
    "    rotated_image = np.vstack(rotated_image) / 255\n",
    "    rotated_image = torch.tensor(rotated_image).float()\n",
    "    rotated_image = rotated_image.reshape(1, 96, 96)\n",
    "\n",
    "    all_rotated_features.append(rotated_features)\n",
    "    all_rotated_images.append(rotated_image)\n",
    "    \n",
    "print(rotated_features.shape)\n",
    "print(rotated_image.shape)\n",
    "\n",
    "#append the modifed data to the original data\n",
    "X_train = torch.cat((X_train, torch.stack(all_rotated_images)))\n",
    "y_train = torch.cat((y_train, torch.stack(all_rotated_features)))\n",
    "\n",
    "print(X_train.shape)\n",
    "print(y_train.shape)\n",
    "\n",
    "trainset = torch.utils.data.DataLoader(list(zip(X_train, y_train)), batch_size=50, shuffle=True)\n"
   ]
  },
  {
   "cell_type": "code",
   "execution_count": 357,
   "id": "9aaa0179-406d-4f10-8996-b0155e354e28",
   "metadata": {},
   "outputs": [
    {
     "name": "stdout",
     "output_type": "stream",
     "text": [
      "FacialFeatureDetectionNetwork(\n",
      "  (conv1): Conv2d(1, 32, kernel_size=(5, 5), stride=(1, 1))\n",
      "  (conv2): Conv2d(32, 64, kernel_size=(3, 3), stride=(1, 1))\n",
      "  (conv3): Conv2d(64, 64, kernel_size=(3, 3), stride=(1, 1))\n",
      "  (conv4): Conv2d(64, 64, kernel_size=(3, 3), stride=(1, 1))\n",
      "  (pool1): MaxPool2d(kernel_size=2, stride=2, padding=0, dilation=1, ceil_mode=False)\n",
      "  (flat1): Flatten(start_dim=1, end_dim=-1)\n",
      "  (drop1): Dropout(p=0.1, inplace=False)\n",
      "  (drop2): Dropout(p=0.2, inplace=False)\n",
      "  (drop3): Dropout(p=0.3, inplace=False)\n",
      "  (fc1): Linear(in_features=1024, out_features=256, bias=True)\n",
      "  (fc2): Linear(in_features=256, out_features=256, bias=True)\n",
      "  (fc3): Linear(in_features=256, out_features=256, bias=True)\n",
      "  (fc4): Linear(in_features=256, out_features=64, bias=True)\n",
      "  (fc5): Linear(in_features=64, out_features=30, bias=True)\n",
      ")\n"
     ]
    }
   ],
   "source": [
    "#convert the split set into a form that can be used by the neural network more easily\n",
    "\n",
    "\n",
    "class FacialFeatureDetectionNetwork(nn.Module):\n",
    "    def __init__(self):\n",
    "        super().__init__()\n",
    "    \n",
    "    \n",
    "        self.conv1 = nn.Conv2d(1, 32, kernel_size=5)\n",
    "        self.conv2 = nn.Conv2d(32, 64, kernel_size=3)\n",
    "        self.conv3 = nn.Conv2d(64, 64, kernel_size=3)\n",
    "        self.conv4 = nn.Conv2d(64, 64, kernel_size=3)\n",
    "        \n",
    "        self.pool1 = nn.MaxPool2d(kernel_size=2)\n",
    "        \n",
    "        self.flat1 = nn.Flatten()\n",
    "        \n",
    "        self.drop1 = nn.Dropout(0.1)\n",
    "        self.drop2 = nn.Dropout(0.2)\n",
    "        self.drop3 = nn.Dropout(0.3)\n",
    "\n",
    "        self.fc1 = nn.Linear(1024, 256)\n",
    "        self.fc2 = nn.Linear(256, 256)\n",
    "        self.fc3 = nn.Linear(256, 256)\n",
    "        self.fc4 = nn.Linear(256, 64)\n",
    "        self.fc5 = nn.Linear(64, 30)\n",
    "\n",
    "    \n",
    "    def forward(self, x):\n",
    "        \n",
    "        x = F.relu(self.conv1(x))\n",
    "        x = self.pool1(x)\n",
    "        \n",
    "        x = F.relu(self.conv2(x))\n",
    "        x = self.pool1(x)\n",
    "        x = self.drop1(x)\n",
    "        \n",
    "        x = F.relu(self.conv3(x))\n",
    "        x = self.pool1(x)\n",
    "        x = self.drop2(x)\n",
    "        \n",
    "        x = F.relu(self.conv4(x))\n",
    "        x = self.pool1(x)\n",
    "        x = self.drop3(x)\n",
    "        \n",
    "        x = self.flat1(x)\n",
    "        \n",
    "        x = F.relu(self.fc1(x))\n",
    "        x = F.relu(self.fc2(x))\n",
    "        x = F.relu(self.fc3(x))\n",
    "        x = F.relu(self.fc4(x))\n",
    "        x = self.fc5(x)\n",
    "        return x\n",
    "    \n",
    "\n",
    "net = FacialFeatureDetectionNetwork()\n",
    "print(net)"
   ]
  },
  {
   "cell_type": "code",
   "execution_count": 365,
   "id": "6b147786-23cc-4343-857f-f0048c244324",
   "metadata": {},
   "outputs": [
    {
     "name": "stdout",
     "output_type": "stream",
     "text": [
      "tensor(0.1631, grad_fn=<MseLossBackward>)\n",
      "tensor(36.7202, grad_fn=<MseLossBackward>)\n",
      "tensor(0.1530, grad_fn=<MseLossBackward>)\n",
      "tensor(0.1608, grad_fn=<MseLossBackward>)\n",
      "tensor(0.1634, grad_fn=<MseLossBackward>)\n",
      "tensor(0.1699, grad_fn=<MseLossBackward>)\n",
      "tensor(0.1888, grad_fn=<MseLossBackward>)\n",
      "tensor(0.1613, grad_fn=<MseLossBackward>)\n",
      "tensor(0.1500, grad_fn=<MseLossBackward>)\n",
      "tensor(0.1292, grad_fn=<MseLossBackward>)\n",
      "tensor(0.0906, grad_fn=<MseLossBackward>)\n",
      "tensor(0.0759, grad_fn=<MseLossBackward>)\n",
      "tensor(0.0795, grad_fn=<MseLossBackward>)\n",
      "tensor(0.0634, grad_fn=<MseLossBackward>)\n",
      "tensor(0.0766, grad_fn=<MseLossBackward>)\n",
      "tensor(0.0512, grad_fn=<MseLossBackward>)\n",
      "tensor(0.0601, grad_fn=<MseLossBackward>)\n",
      "tensor(0.0516, grad_fn=<MseLossBackward>)\n",
      "tensor(0.0418, grad_fn=<MseLossBackward>)\n",
      "tensor(0.0454, grad_fn=<MseLossBackward>)\n",
      "tensor(0.0576, grad_fn=<MseLossBackward>)\n",
      "tensor(0.0474, grad_fn=<MseLossBackward>)\n",
      "tensor(0.0512, grad_fn=<MseLossBackward>)\n",
      "tensor(0.0384, grad_fn=<MseLossBackward>)\n",
      "tensor(0.0717, grad_fn=<MseLossBackward>)\n",
      "tensor(0.0666, grad_fn=<MseLossBackward>)\n",
      "tensor(0.0568, grad_fn=<MseLossBackward>)\n",
      "tensor(0.0572, grad_fn=<MseLossBackward>)\n",
      "tensor(0.0598, grad_fn=<MseLossBackward>)\n",
      "tensor(0.0433, grad_fn=<MseLossBackward>)\n",
      "tensor(0.0452, grad_fn=<MseLossBackward>)\n",
      "tensor(0.0535, grad_fn=<MseLossBackward>)\n",
      "tensor(0.0444, grad_fn=<MseLossBackward>)\n",
      "tensor(0.0628, grad_fn=<MseLossBackward>)\n",
      "tensor(0.0522, grad_fn=<MseLossBackward>)\n",
      "tensor(0.0583, grad_fn=<MseLossBackward>)\n",
      "tensor(0.0594, grad_fn=<MseLossBackward>)\n",
      "tensor(0.0474, grad_fn=<MseLossBackward>)\n",
      "tensor(0.0523, grad_fn=<MseLossBackward>)\n",
      "tensor(0.0568, grad_fn=<MseLossBackward>)\n",
      "tensor(0.0503, grad_fn=<MseLossBackward>)\n",
      "tensor(0.0513, grad_fn=<MseLossBackward>)\n",
      "tensor(0.0496, grad_fn=<MseLossBackward>)\n",
      "tensor(0.0559, grad_fn=<MseLossBackward>)\n",
      "tensor(0.0532, grad_fn=<MseLossBackward>)\n",
      "tensor(0.0555, grad_fn=<MseLossBackward>)\n",
      "tensor(0.0563, grad_fn=<MseLossBackward>)\n",
      "tensor(0.0496, grad_fn=<MseLossBackward>)\n",
      "tensor(0.0488, grad_fn=<MseLossBackward>)\n",
      "tensor(0.0415, grad_fn=<MseLossBackward>)\n",
      "tensor(0.0361, grad_fn=<MseLossBackward>)\n",
      "tensor(0.0634, grad_fn=<MseLossBackward>)\n",
      "tensor(0.0579, grad_fn=<MseLossBackward>)\n",
      "tensor(0.0481, grad_fn=<MseLossBackward>)\n",
      "tensor(0.0538, grad_fn=<MseLossBackward>)\n",
      "tensor(0.0485, grad_fn=<MseLossBackward>)\n",
      "tensor(0.0486, grad_fn=<MseLossBackward>)\n",
      "tensor(0.0686, grad_fn=<MseLossBackward>)\n",
      "tensor(0.0380, grad_fn=<MseLossBackward>)\n",
      "tensor(0.0398, grad_fn=<MseLossBackward>)\n",
      "tensor(0.0800, grad_fn=<MseLossBackward>)\n",
      "tensor(0.0535, grad_fn=<MseLossBackward>)\n",
      "tensor(0.0468, grad_fn=<MseLossBackward>)\n",
      "tensor(0.0497, grad_fn=<MseLossBackward>)\n",
      "tensor(0.0560, grad_fn=<MseLossBackward>)\n",
      "tensor(0.0587, grad_fn=<MseLossBackward>)\n",
      "tensor(0.0455, grad_fn=<MseLossBackward>)\n",
      "tensor(0.0632, grad_fn=<MseLossBackward>)\n",
      "tensor(0.0348, grad_fn=<MseLossBackward>)\n",
      "tensor(0.0532, grad_fn=<MseLossBackward>)\n",
      "tensor(0.0471, grad_fn=<MseLossBackward>)\n",
      "tensor(0.0585, grad_fn=<MseLossBackward>)\n",
      "tensor(0.0361, grad_fn=<MseLossBackward>)\n",
      "tensor(0.0473, grad_fn=<MseLossBackward>)\n",
      "tensor(0.0448, grad_fn=<MseLossBackward>)\n",
      "tensor(0.0377, grad_fn=<MseLossBackward>)\n",
      "tensor(0.0471, grad_fn=<MseLossBackward>)\n",
      "tensor(0.0525, grad_fn=<MseLossBackward>)\n",
      "tensor(0.0459, grad_fn=<MseLossBackward>)\n",
      "tensor(0.0712, grad_fn=<MseLossBackward>)\n",
      "tensor(0.0468, grad_fn=<MseLossBackward>)\n",
      "tensor(0.0362, grad_fn=<MseLossBackward>)\n",
      "tensor(0.0554, grad_fn=<MseLossBackward>)\n",
      "tensor(0.0412, grad_fn=<MseLossBackward>)\n",
      "tensor(0.0501, grad_fn=<MseLossBackward>)\n",
      "tensor(0.0613, grad_fn=<MseLossBackward>)\n"
     ]
    }
   ],
   "source": [
    "net = FacialFeatureDetectionNetwork()\n",
    "\n",
    "loss_function = nn.CrossEntropyLoss()\n",
    "optimizer = optim.Adam(net.parameters(), lr=0.01)\n",
    "\n",
    "for epoch in range(0, 1):\n",
    "    for data in trainset: \n",
    "        X, y = data \n",
    "        net.zero_grad()\n",
    "\n",
    "        #print(X.shape, y.shape)\n",
    "\n",
    "        output = net(X)\n",
    "        #print(output.shape)\n",
    "        #print(output.reshape(-1, 1).shape)\n",
    "\n",
    "        loss = F.mse_loss(output, y)\n",
    "        loss.backward()\n",
    "\n",
    "        print(loss)\n",
    "\n",
    "        optimizer.step() \n"
   ]
  },
  {
   "cell_type": "code",
   "execution_count": 366,
   "id": "85a132e9-cd31-42ef-9ca5-fcce3d8cb432",
   "metadata": {},
   "outputs": [],
   "source": [
    "X_test\n",
    "y_test = net(X_test)\n"
   ]
  },
  {
   "cell_type": "code",
   "execution_count": 367,
   "id": "2bb0e835-51e0-4eb2-9066-2755864ea84c",
   "metadata": {},
   "outputs": [
    {
     "data": {
      "text/plain": [
       "<matplotlib.image.AxesImage at 0x1a4b47fd0>"
      ]
     },
     "execution_count": 367,
     "metadata": {},
     "output_type": "execute_result"
    },
    {
     "data": {
      "image/png": "[encoded data removed]",
      "text/plain": [
       "<Figure size 432x288 with 1 Axes>"
      ]
     },
     "metadata": {
      "needs_background": "light"
     },
     "output_type": "display_data"
    }
   ],
   "source": [
    "\n",
    "image_number = 1002\n",
    "\n",
    "image = X_test[image_number].reshape(96, 96)\n",
    "image = image.numpy()\n",
    "image = image * 255\n",
    "\n",
    "\n",
    "features = y_test[image_number].reshape(15, 2)\n",
    "features = features.detach().numpy()\n",
    "features = features * 48 \n",
    "features = features + 48\n",
    "\n",
    "\n",
    "#print(image.shape)\n",
    "#print(image)\n",
    "#print(features)\n",
    "plt.scatter(features[:, 0], features[:, 1], c='r', s=20)\n",
    "plt.imshow(image)\n"
   ]
  },
  {
   "cell_type": "code",
   "execution_count": null,
   "id": "1f81c6a6-0a1e-417d-8f19-fc8335dc6ae9",
   "metadata": {},
   "outputs": [],
   "source": []
  }
 ],
 "metadata": {
  "kernelspec": {
   "display_name": "Python 3",
   "language": "python",
   "name": "python3"
  },
  "language_info": {
   "codemirror_mode": {
    "name": "ipython",
    "version": 3
   },
   "file_extension": ".py",
   "mimetype": "text/x-python",
   "name": "python",
   "nbconvert_exporter": "python",
   "pygments_lexer": "ipython3",
   "version": "3.9.2"
  }
 },
 "nbformat": 4,
 "nbformat_minor": 5
}
